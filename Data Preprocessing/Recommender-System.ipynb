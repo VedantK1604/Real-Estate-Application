{
 "cells": [
  {
   "cell_type": "code",
   "execution_count": 57,
   "id": "344b1245",
   "metadata": {},
   "outputs": [],
   "source": [
    "import numpy as np\n",
    "import pandas as pd\n",
    "import re\n",
    "from sklearn.feature_extraction.text import TfidfVectorizer\n",
    "from sklearn.metrics.pairwise import cosine_similarity"
   ]
  },
  {
   "cell_type": "code",
   "execution_count": 58,
   "id": "f021f999",
   "metadata": {},
   "outputs": [],
   "source": [
    "df = pd.read_csv('../Datasets/appartments.csv')"
   ]
  },
  {
   "cell_type": "code",
   "execution_count": 59,
   "id": "55bee226",
   "metadata": {},
   "outputs": [],
   "source": [
    "df = pd.read_csv('../Datasets/appartments.csv').drop(22)"
   ]
  },
  {
   "cell_type": "code",
   "execution_count": 56,
   "id": "0ce4e71f",
   "metadata": {},
   "outputs": [],
   "source": [
    "df.head()"
   ]
  },
  {
   "cell_type": "code",
   "execution_count": 5,
   "id": "e8e7010a",
   "metadata": {},
   "outputs": [],
   "source": [
    "df.shape"
   ]
  },
  {
   "cell_type": "code",
   "execution_count": 6,
   "id": "25b4c431",
   "metadata": {},
   "outputs": [],
   "source": [
    "df.iloc[134].Link"
   ]
  },
  {
   "cell_type": "code",
   "execution_count": 7,
   "id": "5c9c2cd9",
   "metadata": {},
   "outputs": [],
   "source": [
    "df.iloc[2].NearbyLocations"
   ]
  },
  {
   "cell_type": "code",
   "execution_count": 8,
   "id": "4238f607",
   "metadata": {},
   "outputs": [],
   "source": [
    "df.iloc[2].LocationAdvantages"
   ]
  },
  {
   "cell_type": "code",
   "execution_count": 9,
   "id": "92a8ac7f",
   "metadata": {},
   "outputs": [],
   "source": [
    "df.iloc[1].PriceDetails"
   ]
  },
  {
   "cell_type": "code",
   "execution_count": 10,
   "id": "20fc36e7",
   "metadata": {},
   "outputs": [],
   "source": [
    "df.iloc[2].TopFacilities"
   ]
  },
  {
   "cell_type": "code",
   "execution_count": 11,
   "id": "49def75c",
   "metadata": {},
   "outputs": [],
   "source": [
    "df[['PropertyName','TopFacilities']]['TopFacilities'][0]"
   ]
  },
  {
   "cell_type": "code",
   "execution_count": 12,
   "id": "0c176e9f",
   "metadata": {},
   "outputs": [],
   "source": [
    "def extract_list(s):\n",
    "    return re.findall(r\"'(.*?)'\", s)\n",
    "\n",
    "df['TopFacilities'] = df['TopFacilities'].apply(extract_list)"
   ]
  },
  {
   "cell_type": "code",
   "execution_count": 13,
   "id": "fb3ff16c",
   "metadata": {},
   "outputs": [],
   "source": [
    "df.head()"
   ]
  },
  {
   "cell_type": "code",
   "execution_count": 14,
   "id": "50cc1e2e",
   "metadata": {},
   "outputs": [],
   "source": [
    "df.shape"
   ]
  },
  {
   "cell_type": "code",
   "execution_count": 15,
   "id": "10fd7373",
   "metadata": {},
   "outputs": [],
   "source": [
    "df['FacilitiesStr'] = df['TopFacilities'].apply(' '.join)"
   ]
  },
  {
   "cell_type": "code",
   "execution_count": 16,
   "id": "91a163b9",
   "metadata": {},
   "outputs": [],
   "source": [
    "df['FacilitiesStr'][0]"
   ]
  },
  {
   "cell_type": "code",
   "execution_count": 17,
   "id": "59e82083",
   "metadata": {},
   "outputs": [],
   "source": [
    "tfidf_vectorizer = TfidfVectorizer(stop_words='english', ngram_range=(1, 2))"
   ]
  },
  {
   "cell_type": "code",
   "execution_count": 18,
   "id": "b26f6a01",
   "metadata": {},
   "outputs": [],
   "source": [
    "tfidf_matrix = tfidf_vectorizer.fit_transform(df['FacilitiesStr'])"
   ]
  },
  {
   "cell_type": "code",
   "execution_count": 19,
   "id": "dc19f877",
   "metadata": {
    "scrolled": true
   },
   "outputs": [],
   "source": [
    "tfidf_matrix.toarray()[0]"
   ]
  },
  {
   "cell_type": "code",
   "execution_count": 20,
   "id": "7afb77b2",
   "metadata": {},
   "outputs": [],
   "source": [
    "tfidf_matrix.shape"
   ]
  },
  {
   "cell_type": "code",
   "execution_count": 21,
   "id": "7c843159",
   "metadata": {},
   "outputs": [],
   "source": [
    "cosine_sim1 = cosine_similarity(tfidf_matrix, tfidf_matrix)"
   ]
  },
  {
   "cell_type": "code",
   "execution_count": 22,
   "id": "504b2357",
   "metadata": {},
   "outputs": [],
   "source": [
    "cosine_sim1.shape"
   ]
  },
  {
   "cell_type": "code",
   "execution_count": 23,
   "id": "3990a65b",
   "metadata": {},
   "outputs": [],
   "source": [
    "df[['PropertyName','PriceDetails']]['PriceDetails'][1]"
   ]
  },
  {
   "cell_type": "code",
   "execution_count": 24,
   "id": "89b433c0",
   "metadata": {},
   "outputs": [],
   "source": [
    "def recommend_properties(property_name, cosine_sim=cosine_sim1):\n",
    "    # Get the index of the property that matches the name\n",
    "    idx = df.index[df['PropertyName'] == property_name].tolist()[0]\n",
    "\n",
    "    # Get the pairwise similarity scores with that property\n",
    "    sim_scores = list(enumerate(cosine_sim1[idx]))\n",
    "\n",
    "    # Sort the properties based on the similarity scores\n",
    "    sim_scores = sorted(sim_scores, key=lambda x: x[1], reverse=True)\n",
    "\n",
    "    # Get the scores of the 10 most similar properties\n",
    "    sim_scores = sim_scores[1:6]\n",
    "\n",
    "    # Get the property indices\n",
    "    property_indices = [i[0] for i in sim_scores]\n",
    "    \n",
    "    recommendations_df = pd.DataFrame({\n",
    "        'PropertyName': df['PropertyName'].iloc[property_indices],\n",
    "        'SimilarityScore': sim_scores\n",
    "    })\n",
    "\n",
    "    # Return the top 10 most similar properties\n",
    "    return recommendations_df"
   ]
  },
  {
   "cell_type": "code",
   "execution_count": 25,
   "id": "9dfc00c1",
   "metadata": {},
   "outputs": [],
   "source": [
    "recommend_properties(\"DLF The Arbour\")"
   ]
  },
  {
   "cell_type": "code",
   "execution_count": 26,
   "id": "2662e140",
   "metadata": {},
   "outputs": [],
   "source": [
    "import pandas as pd\n",
    "import json\n",
    "\n",
    "# Load the dataset\n",
    "df_appartments = pd.read_csv('../Datasets/appartments.csv').drop(22)\n",
    "\n",
    "# Function to parse and extract the required features from the PriceDetails column\n",
    "def refined_parse_modified_v2(detail_str):\n",
    "    try:\n",
    "        details = json.loads(detail_str.replace(\"'\", \"\\\"\"))\n",
    "    except:\n",
    "        return {}\n",
    "\n",
    "    extracted = {}\n",
    "    for bhk, detail in details.items():\n",
    "        # Extract building type\n",
    "        extracted[f'building type_{bhk}'] = detail.get('building_type')\n",
    "\n",
    "        # Parsing area details\n",
    "        area = detail.get('area', '')\n",
    "        area_parts = area.split('-')\n",
    "        if len(area_parts) == 1:\n",
    "            try:\n",
    "                value = float(area_parts[0].replace(',', '').replace(' sq.ft.', '').strip())\n",
    "                extracted[f'area low {bhk}'] = value\n",
    "                extracted[f'area high {bhk}'] = value\n",
    "            except:\n",
    "                extracted[f'area low {bhk}'] = None\n",
    "                extracted[f'area high {bhk}'] = None\n",
    "        elif len(area_parts) == 2:\n",
    "            try:\n",
    "                extracted[f'area low {bhk}'] = float(area_parts[0].replace(',', '').replace(' sq.ft.', '').strip())\n",
    "                extracted[f'area high {bhk}'] = float(area_parts[1].replace(',', '').replace(' sq.ft.', '').strip())\n",
    "            except:\n",
    "                extracted[f'area low {bhk}'] = None\n",
    "                extracted[f'area high {bhk}'] = None\n",
    "\n",
    "        # Parsing price details\n",
    "        price_range = detail.get('price-range', '')\n",
    "        price_parts = price_range.split('-')\n",
    "        if len(price_parts) == 2:\n",
    "            try:\n",
    "                extracted[f'price low {bhk}'] = float(price_parts[0].replace('₹', '').replace(' Cr', '').replace(' L', '').strip())\n",
    "                extracted[f'price high {bhk}'] = float(price_parts[1].replace('₹', '').replace(' Cr', '').replace(' L', '').strip())\n",
    "                if 'L' in price_parts[0]:\n",
    "                    extracted[f'price low {bhk}'] /= 100\n",
    "                if 'L' in price_parts[1]:\n",
    "                    extracted[f'price high {bhk}'] /= 100\n",
    "            except:\n",
    "                extracted[f'price low {bhk}'] = None\n",
    "                extracted[f'price high {bhk}'] = None\n",
    "\n",
    "    return extracted\n",
    "# Apply the refined parsing and generate the new DataFrame structure\n",
    "data_refined = []\n",
    "\n",
    "for _, row in df_appartments.iterrows():\n",
    "    features = refined_parse_modified_v2(row['PriceDetails'])\n",
    "    \n",
    "    # Construct a new row for the transformed dataframe\n",
    "    new_row = {'PropertyName': row['PropertyName']}\n",
    "    \n",
    "    # Populate the new row with extracted features\n",
    "    for config in ['1 BHK', '2 BHK', '3 BHK', '4 BHK', '5 BHK', '6 BHK', '1 RK', 'Land']:\n",
    "        new_row[f'building type_{config}'] = features.get(f'building type_{config}')\n",
    "        new_row[f'area low {config}'] = features.get(f'area low {config}')\n",
    "        new_row[f'area high {config}'] = features.get(f'area high {config}')\n",
    "        new_row[f'price low {config}'] = features.get(f'price low {config}')\n",
    "        new_row[f'price high {config}'] = features.get(f'price high {config}')\n",
    "    \n",
    "    data_refined.append(new_row)\n",
    "\n",
    "df_final_refined_v2 = pd.DataFrame(data_refined).set_index('PropertyName')"
   ]
  },
  {
   "cell_type": "code",
   "execution_count": 27,
   "id": "b04d6eaf",
   "metadata": {},
   "outputs": [],
   "source": [
    "df['PriceDetails'][10]"
   ]
  },
  {
   "cell_type": "code",
   "execution_count": 28,
   "id": "3bd633b9",
   "metadata": {},
   "outputs": [],
   "source": [
    "df_final_refined_v2"
   ]
  },
  {
   "cell_type": "code",
   "execution_count": 29,
   "id": "fc8ca97d",
   "metadata": {},
   "outputs": [],
   "source": [
    "categorical_columns = df_final_refined_v2.select_dtypes(include=['object']).columns.tolist()"
   ]
  },
  {
   "cell_type": "code",
   "execution_count": 30,
   "id": "2e883640",
   "metadata": {},
   "outputs": [],
   "source": [
    "categorical_columns"
   ]
  },
  {
   "cell_type": "code",
   "execution_count": 31,
   "id": "6fccad88",
   "metadata": {},
   "outputs": [],
   "source": [
    "ohe_df = pd.get_dummies(df_final_refined_v2, columns=categorical_columns, drop_first=True)"
   ]
  },
  {
   "cell_type": "code",
   "execution_count": 32,
   "id": "af5cbf21",
   "metadata": {},
   "outputs": [],
   "source": [
    "ohe_df.fillna(0,inplace=True)"
   ]
  },
  {
   "cell_type": "code",
   "execution_count": 33,
   "id": "7f7f269f",
   "metadata": {},
   "outputs": [],
   "source": [
    "ohe_df"
   ]
  },
  {
   "cell_type": "code",
   "execution_count": 34,
   "id": "bb713fd1",
   "metadata": {},
   "outputs": [],
   "source": [
    "from sklearn.preprocessing import StandardScaler\n",
    "\n",
    "# Initialize the scaler\n",
    "scaler = StandardScaler()\n",
    "\n",
    "# Apply the scaler to the entire dataframe\n",
    "ohe_df_normalized = pd.DataFrame(scaler.fit_transform(ohe_df), columns=ohe_df.columns, index=ohe_df.index)"
   ]
  },
  {
   "cell_type": "code",
   "execution_count": 35,
   "id": "e4bd8028",
   "metadata": {},
   "outputs": [],
   "source": [
    "ohe_df_normalized.head()"
   ]
  },
  {
   "cell_type": "code",
   "execution_count": 36,
   "id": "22461a87",
   "metadata": {},
   "outputs": [],
   "source": [
    "from sklearn.metrics.pairwise import cosine_similarity\n",
    "\n",
    "# Compute the cosine similarity matrix\n",
    "cosine_sim2 = cosine_similarity(ohe_df_normalized)"
   ]
  },
  {
   "cell_type": "code",
   "execution_count": 37,
   "id": "88cfbb96",
   "metadata": {},
   "outputs": [],
   "source": [
    "cosine_sim2.shape"
   ]
  },
  {
   "cell_type": "code",
   "execution_count": 38,
   "id": "9d84a3bf",
   "metadata": {},
   "outputs": [],
   "source": [
    "def recommend_properties_with_scores(property_name, top_n=247):\n",
    "    \n",
    "    # Get the similarity scores for the property using its name as the index\n",
    "    sim_scores = list(enumerate(cosine_sim2[ohe_df_normalized.index.get_loc(property_name)]))\n",
    "    \n",
    "    # Sort properties based on the similarity scores\n",
    "    sorted_scores = sorted(sim_scores, key=lambda x: x[1], reverse=True)\n",
    "    \n",
    "    # Get the indices and scores of the top_n most similar properties\n",
    "    top_indices = [i[0] for i in sorted_scores[1:top_n+1]]\n",
    "    top_scores = [i[1] for i in sorted_scores[1:top_n+1]]\n",
    "    \n",
    "    # Retrieve the names of the top properties using the indices\n",
    "    top_properties = ohe_df_normalized.index[top_indices].tolist()\n",
    "    \n",
    "    # Create a dataframe with the results\n",
    "    recommendations_df = pd.DataFrame({\n",
    "        'PropertyName': top_properties,\n",
    "        'SimilarityScore': top_scores\n",
    "    })\n",
    "    \n",
    "    return recommendations_df\n",
    "\n",
    "# Test the recommender function using a property name\n",
    "recommend_properties_with_scores('M3M Golf Hills')"
   ]
  },
  {
   "cell_type": "code",
   "execution_count": 39,
   "id": "e09b29c3",
   "metadata": {},
   "outputs": [],
   "source": [
    "df[['PropertyName','LocationAdvantages']]['LocationAdvantages'][0]"
   ]
  },
  {
   "cell_type": "code",
   "execution_count": 40,
   "id": "096a76ca",
   "metadata": {},
   "outputs": [],
   "source": [
    "def distance_to_meters(distance_str):\n",
    "    try:\n",
    "        if 'Km' in distance_str or 'KM' in distance_str:\n",
    "            return float(distance_str.split()[0]) * 1000\n",
    "        elif 'Meter' in distance_str or 'meter' in distance_str:\n",
    "            return float(distance_str.split()[0])\n",
    "        else:\n",
    "            return None\n",
    "    except:\n",
    "        return None"
   ]
  },
  {
   "cell_type": "code",
   "execution_count": 41,
   "id": "e687d7c7",
   "metadata": {
    "scrolled": false
   },
   "outputs": [],
   "source": [
    "# Extract distances for each location\n",
    "import ast\n",
    "import json  # Import json for parsing non-literal strings\n",
    "\n",
    "location_matrix = {}\n",
    "for index, row in df.iterrows():\n",
    "    try:\n",
    "        # Try converting with literal_eval (for simple string formats)\n",
    "        distances = dict(ast.literal_eval(row['LocationAdvantages']))\n",
    "    except (ValueError, SyntaxError):\n",
    "        # If literal_eval fails, try parsing with json.loads (for more complex formats)\n",
    "        try:\n",
    "            distances = json.loads(row['LocationAdvantages'])\n",
    "        except (json.JSONDecodeError, TypeError):\n",
    "            # Handle cases where data is not a parsable format\n",
    "            print(f\"Warning: Could not parse LocationAdvantages for row {index}\")\n",
    "            distances = {}  # Set distances to empty dict\n",
    "\n",
    "    for location, distance in distances.items():\n",
    "        distances[location] = distance_to_meters(distance)\n",
    "    location_matrix[index] = distances\n",
    "\n",
    "# Convert the dictionary to a dataframe\n",
    "location_df = pd.DataFrame.from_dict(location_matrix, orient='index')\n",
    "\n",
    "# Display\n",
    "location_df.head()"
   ]
  },
  {
   "cell_type": "code",
   "execution_count": 42,
   "id": "1da1fb6f",
   "metadata": {},
   "outputs": [],
   "source": [
    "location_df.columns[10:50]"
   ]
  },
  {
   "cell_type": "code",
   "execution_count": 43,
   "id": "6255701a",
   "metadata": {},
   "outputs": [],
   "source": [
    "# if len(df) != len(location_df):\n",
    "#   num_rows = min(len(df), len(location_df))  # Get the minimum number of rows\n",
    "#   location_df.index = df.PropertyName[:num_rows]  # Subset PropertyName to match\n",
    "# else:\n",
    "#   location_df.index = df.PropertyName\n",
    "location_df.index = df.PropertyName"
   ]
  },
  {
   "cell_type": "code",
   "execution_count": 44,
   "id": "a5b4e5ba",
   "metadata": {},
   "outputs": [],
   "source": [
    "location_df.head()"
   ]
  },
  {
   "cell_type": "code",
   "execution_count": 45,
   "id": "0a2437a2",
   "metadata": {},
   "outputs": [],
   "source": [
    "location_df.fillna(54000,inplace=True)"
   ]
  },
  {
   "cell_type": "code",
   "execution_count": 46,
   "id": "83fe05c3",
   "metadata": {},
   "outputs": [],
   "source": [
    "location_df"
   ]
  },
  {
   "cell_type": "code",
   "execution_count": 47,
   "id": "88f25e02",
   "metadata": {},
   "outputs": [],
   "source": [
    "from sklearn.preprocessing import StandardScaler\n",
    "# Initialize the scaler\n",
    "scaler = StandardScaler()\n",
    "\n",
    "# Apply the scaler to the entire dataframe\n",
    "location_df_normalized = pd.DataFrame(scaler.fit_transform(location_df), columns=location_df.columns, index=location_df.index)"
   ]
  },
  {
   "cell_type": "code",
   "execution_count": 48,
   "id": "d6510e7e",
   "metadata": {},
   "outputs": [],
   "source": [
    "location_df_normalized"
   ]
  },
  {
   "cell_type": "code",
   "execution_count": 49,
   "id": "2dc3aba8",
   "metadata": {},
   "outputs": [],
   "source": [
    "cosine_sim3 = cosine_similarity(location_df_normalized)"
   ]
  },
  {
   "cell_type": "code",
   "execution_count": 50,
   "id": "0cfc45ef",
   "metadata": {},
   "outputs": [],
   "source": [
    "cosine_sim3.shape"
   ]
  },
  {
   "cell_type": "code",
   "execution_count": 51,
   "id": "55989b10",
   "metadata": {},
   "outputs": [],
   "source": [
    "def recommend_properties_with_scores(property_name, top_n=247):\n",
    "    \n",
    "    cosine_sim_matrix = 30*cosine_sim1 + 20*cosine_sim2 + 8*cosine_sim3\n",
    "    # cosine_sim_matrix = cosine_sim3\n",
    "    \n",
    "    # Get the similarity scores for the property using its name as the index\n",
    "    sim_scores = list(enumerate(cosine_sim_matrix[location_df_normalized.index.get_loc(property_name)]))\n",
    "    \n",
    "    # Sort properties based on the similarity scores\n",
    "    sorted_scores = sorted(sim_scores, key=lambda x: x[1], reverse=True)\n",
    "    \n",
    "    # Get the indices and scores of the top_n most similar properties\n",
    "    top_indices = [i[0] for i in sorted_scores[1:top_n+1]]\n",
    "    top_scores = [i[1] for i in sorted_scores[1:top_n+1]]\n",
    "    \n",
    "    # Retrieve the names of the top properties using the indices\n",
    "    top_properties = location_df_normalized.index[top_indices].tolist()\n",
    "    \n",
    "    # Create a dataframe with the results\n",
    "    recommendations_df = pd.DataFrame({\n",
    "        'PropertyName': top_properties,\n",
    "        'SimilarityScore': top_scores\n",
    "    })\n",
    "    \n",
    "    return recommendations_df\n",
    "\n",
    "# Test the recommender function using a property name\n",
    "recommend_properties_with_scores('Ireo Victory Valley')"
   ]
  },
  {
   "cell_type": "code",
   "execution_count": 52,
   "id": "da178dad",
   "metadata": {},
   "outputs": [],
   "source": [
    "(3*cosine_sim3 + 5*cosine_sim2 + 6*cosine_sim1).shape"
   ]
  },
  {
   "cell_type": "code",
   "execution_count": 53,
   "id": "75809bf1",
   "metadata": {},
   "outputs": [],
   "source": [
    "import pickle\n",
    "pickle.dump(location_df, open(\"../Datasets/location_distance.pkl\", 'wb'))"
   ]
  },
  {
   "cell_type": "code",
   "execution_count": 54,
   "id": "dcaff024",
   "metadata": {},
   "outputs": [],
   "source": [
    "location_df"
   ]
  },
  {
   "cell_type": "code",
   "execution_count": 55,
   "id": "966ced17",
   "metadata": {},
   "outputs": [],
   "source": [
    "location_df"
   ]
  },
  {
   "cell_type": "code",
   "execution_count": null,
   "id": "77c582e5",
   "metadata": {},
   "outputs": [],
   "source": []
  }
 ],
 "metadata": {
  "kernelspec": {
   "display_name": "Python 3 (ipykernel)",
   "language": "python",
   "name": "python3"
  },
  "language_info": {
   "codemirror_mode": {
    "name": "ipython",
    "version": 3
   },
   "file_extension": ".py",
   "mimetype": "text/x-python",
   "name": "python",
   "nbconvert_exporter": "python",
   "pygments_lexer": "ipython3",
   "version": "3.10.2"
  }
 },
 "nbformat": 4,
 "nbformat_minor": 5
}
